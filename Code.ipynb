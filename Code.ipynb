{
 "cells": [
  {
   "cell_type": "code",
   "execution_count": 3,
   "metadata": {
    "id": "ph3_sNHCIvEk"
   },
   "outputs": [],
   "source": [
    "from google.colab import drive\n",
    "\n",
    "import os"
   ]
  },
  {
   "cell_type": "code",
   "execution_count": 4,
   "metadata": {
    "colab": {
     "base_uri": "https://localhost:8080/"
    },
    "id": "uDPeq30KI7n2",
    "outputId": "aea893dd-cd87-41ab-d3e5-948e2b73fe19"
   },
   "outputs": [
    {
     "name": "stdout",
     "output_type": "stream",
     "text": [
      "Mounted at /content/drive\n"
     ]
    }
   ],
   "source": [
    "# grab dataset from google drive\n",
    "drive.mount('/content/drive')\n",
    "!cp '/content/drive/MyDrive/test_x.sdf' 'test_x.sdf'\n",
    "!cp '/content/drive/MyDrive/train.sdf' 'train.sdf'"
   ]
  },
  {
   "cell_type": "markdown",
   "metadata": {
    "id": "RDxv_loJH25h"
   },
   "source": [
    "## Read SDF format data (structured-data format)"
   ]
  },
  {
   "cell_type": "code",
   "execution_count": 5,
   "metadata": {
    "id": "k6fimwnhH25j"
   },
   "outputs": [],
   "source": [
    "import numpy as np\n",
    "from tqdm.notebook import tqdm\n",
    "\n",
    "# create function to read file\n",
    "def read_sdf(file):\n",
    "    # open file for reading 'r'\n",
    "    with open(file, 'r') as rf:\n",
    "        # saving the contents after reading the file\n",
    "        content = rf.read()\n",
    "        # split the content based on given string\n",
    "    samples = content.split('$$$$')\n",
    "    \n",
    "    # function to break down the content\n",
    "    def parse_sample(s):\n",
    "        # splits strings into a list where each line is a list item\n",
    "        lines = s.splitlines()\n",
    "        # creates empty lists for links and nodes\n",
    "        links = []\n",
    "        nodes = []\n",
    "        label = 0\n",
    "        for l in lines:\n",
    "            if l.strip() == '1.0':\n",
    "                label = 1\n",
    "            if l.strip() == '-1.0':\n",
    "                label = 0\n",
    "            if l.startswith('    '):\n",
    "                feature = l.split()\n",
    "                node = feature[3]\n",
    "                nodes.append(node)\n",
    "            elif l.startswith(' '):\n",
    "                lnk = l.split()\n",
    "                # edge: (from, to,) (1-based index)\n",
    "                if int(lnk[0]) - 1 < len(nodes):\n",
    "                    links.append((\n",
    "                        int(lnk[0])-1, \n",
    "                        int(lnk[1])-1, # zero-based index\n",
    "                        # int(lnk[2]) ignore edge weight\n",
    "                    ))\n",
    "        return nodes, np.array(links), label\n",
    "    \n",
    "    return [parse_sample(s) for s in tqdm(samples) if len(s[0]) > 0]\n",
    "                \n",
    "        \n",
    "        "
   ]
  },
  {
   "cell_type": "code",
   "execution_count": 6,
   "metadata": {
    "colab": {
     "base_uri": "https://localhost:8080/",
     "height": 66,
     "referenced_widgets": [
      "786ec58dff294861a57552fc1c8e7a28",
      "bc1e6d0d4e4448e1a20ee2e0bb0c5b10",
      "ed91137a8bc84a089db68f9f977cc0c2",
      "f80164da346f4cfd8c1339d8b1da0a70",
      "ec27be1466fc4361af0a09fee0eaffb6",
      "993702ea429a48c4bd3020c2a7e4d536",
      "4e091e03ddce4fdfb4261121671a4274",
      "403c3a867ecc4bf48e6575b35a8edf59"
     ]
    },
    "id": "LSn4EXyIH25k",
    "outputId": "a8b32ebd-c27c-4761-c657-5047094b35b5"
   },
   "outputs": [
    {
     "data": {
      "application/vnd.jupyter.widget-view+json": {
       "model_id": "786ec58dff294861a57552fc1c8e7a28",
       "version_major": 2,
       "version_minor": 0
      },
      "text/plain": [
       "HBox(children=(FloatProgress(value=0.0, max=25024.0), HTML(value='')))"
      ]
     },
     "metadata": {
      "tags": []
     },
     "output_type": "display_data"
    },
    {
     "name": "stdout",
     "output_type": "stream",
     "text": [
      "\n"
     ]
    }
   ],
   "source": [
    "from sklearn.model_selection import train_test_split\n",
    "\n",
    "training_set = read_sdf('train.sdf')\n",
    "training_set, validation_set = train_test_split(training_set, test_size=0.15,)"
   ]
  },
  {
   "cell_type": "code",
   "execution_count": 7,
   "metadata": {
    "colab": {
     "base_uri": "https://localhost:8080/",
     "height": 66,
     "referenced_widgets": [
      "146519f4242f4e0984562d6660cb541c",
      "1a077615578040b5890eaae9bf2a8c53",
      "c2fe5eff508b45d1820869412865f871",
      "83f04c44e5b34b3c9397ac5b0f48affa",
      "66c81f6e19bd47ed97e48d5953b0e1d8",
      "db14708ff1ee4d259320ef8b2d780595",
      "c561cee42322407cb6a53eae2bfba757",
      "78ebdf08b9c5465b8178df4c6f8ede38"
     ]
    },
    "id": "N5whIC6-H25k",
    "outputId": "314e4481-10e3-42f5-bf88-2c857122ccd9"
   },
   "outputs": [
    {
     "data": {
      "application/vnd.jupyter.widget-view+json": {
       "model_id": "146519f4242f4e0984562d6660cb541c",
       "version_major": 2,
       "version_minor": 0
      },
      "text/plain": [
       "HBox(children=(FloatProgress(value=0.0, max=12326.0), HTML(value='')))"
      ]
     },
     "metadata": {
      "tags": []
     },
     "output_type": "display_data"
    },
    {
     "name": "stdout",
     "output_type": "stream",
     "text": [
      "\n"
     ]
    }
   ],
   "source": [
    "testing_set  = read_sdf('test_x.sdf')"
   ]
  },
  {
   "cell_type": "code",
   "execution_count": 21,
   "metadata": {
    "colab": {
     "base_uri": "https://localhost:8080/"
    },
    "id": "zlzmtkrzH25l",
    "outputId": "f3b91599-6a29-46cc-fb98-8fbc00b1b699"
   },
   "outputs": [
    {
     "name": "stdout",
     "output_type": "stream",
     "text": [
      "(['O', 'O', 'O', 'O', 'O', 'O', 'N', 'N', 'C', 'C', 'C', 'C', 'C', 'C', 'C', 'C', 'C', 'C', 'C', 'C', 'C', 'C', 'C', 'C', 'C', 'C', 'C', 'C', 'C'], array([[ 0,  8],\n",
      "       [ 0, 11],\n",
      "       [ 1, 11],\n",
      "       [ 2, 14],\n",
      "       [ 3, 16],\n",
      "       [ 4, 25],\n",
      "       [ 5, 25],\n",
      "       [ 6,  8],\n",
      "       [ 6, 10],\n",
      "       [ 7,  9],\n",
      "       [ 7, 14],\n",
      "       [ 8,  9],\n",
      "       [ 9, 12],\n",
      "       [10, 11],\n",
      "       [10, 15],\n",
      "       [12, 13],\n",
      "       [13, 16],\n",
      "       [13, 18],\n",
      "       [14, 17],\n",
      "       [15, 19],\n",
      "       [16, 20],\n",
      "       [17, 21],\n",
      "       [17, 22],\n",
      "       [18, 23],\n",
      "       [19, 25],\n",
      "       [20, 24],\n",
      "       [21, 26],\n",
      "       [22, 27],\n",
      "       [23, 24],\n",
      "       [26, 28],\n",
      "       [27, 28]]), 0)\n"
     ]
    }
   ],
   "source": [
    "print(testing_set[1])"
   ]
  },
  {
   "cell_type": "markdown",
   "metadata": {
    "id": "d3vBbKCoH25l"
   },
   "source": [
    "## Visualizing/Inspecting a Sample"
   ]
  },
  {
   "cell_type": "code",
   "execution_count": 8,
   "metadata": {
    "id": "3aQxUAFlH25l"
   },
   "outputs": [],
   "source": [
    "!pip install --quiet networkx\n",
    "import networkx as nx\n",
    "import matplotlib.pyplot as plt\n",
    "from matplotlib import cm\n",
    "colors = cm.rainbow(np.linspace(0, 1, 50))"
   ]
  },
  {
   "cell_type": "code",
   "execution_count": 8,
   "metadata": {
    "id": "qleVIXOCH25m"
   },
   "outputs": [],
   "source": [
    "def visualize(sample):\n",
    "    G=nx.Graph()\n",
    "    nodes = sample[0]\n",
    "    edges = sample[1]\n",
    "    \n",
    "    labeldict={}\n",
    "    node_color=[]\n",
    "    for i,n in enumerate(nodes):\n",
    "        G.add_node(i)\n",
    "        labeldict[i]=n\n",
    "        node_color.append(colors[hash(n)%len(colors)])\n",
    "\n",
    "    # a list of nodes:\n",
    "    for e in edges:\n",
    "        G.add_edge(e[0], e[1])\n",
    "        \n",
    "    nx.draw(G, labels=labeldict, with_labels = True, node_color = node_color)\n",
    "    plt.show()\n",
    "    \n",
    "    return G"
   ]
  },
  {
   "cell_type": "code",
   "execution_count": 9,
   "metadata": {
    "colab": {
     "base_uri": "https://localhost:8080/",
     "height": 336
    },
    "id": "0HYavUc-H25m",
    "outputId": "fe32cf01-44d9-4e4a-f3cd-347384acc302"
   },
   "outputs": [
    {
     "data": {
      "image/png": "[encoded data removed]",
      "text/plain": [
       "<Figure size 432x288 with 1 Axes>"
      ]
     },
     "metadata": {
      "tags": []
     },
     "output_type": "display_data"
    },
    {
     "data": {
      "text/plain": [
       "<networkx.classes.graph.Graph at 0x7f3b2f1a20f0>"
      ]
     },
     "execution_count": 9,
     "metadata": {
      "tags": []
     },
     "output_type": "execute_result"
    }
   ],
   "source": [
    "plt.clf()\n",
    "visualize(training_set[1])"
   ]
  },
  {
   "cell_type": "markdown",
   "metadata": {
    "id": "nxKKyHBeH25n"
   },
   "source": [
    "## Preprocessing:"
   ]
  },
  {
   "cell_type": "code",
   "execution_count": 9,
   "metadata": {
    "id": "58AClKNyH25n"
   },
   "outputs": [],
   "source": [
    "from tensorflow.keras.preprocessing.text import Tokenizer\n",
    "\n",
    "# maximum number of words from the resulting tokenized data which are to be used\n",
    "max_vocab = 500\n",
    "max_len = 100\n",
    "\n",
    "\n",
    "# build vocabulary from training set\n",
    "all_nodes = [s[0] for s in training_set]\n",
    "tokenizer = Tokenizer(num_words=max_vocab)\n",
    "# upadting the internal vocalulary based on the list of text, so it creates the \n",
    "# vocabulary index based on word frequnecy so every word gets a unique interger value so lower integers \n",
    "# mean more frequent word or nodes.\n",
    "tokenizer.fit_on_texts(all_nodes)"
   ]
  },
  {
   "cell_type": "code",
   "execution_count": 10,
   "metadata": {
    "id": "UIPOYWRJH25n"
   },
   "outputs": [],
   "source": [
    "from tensorflow.keras.preprocessing.sequence import pad_sequences\n",
    "import random\n",
    "random.seed(0)\n",
    "\n",
    "def prepare_single_batch(samples):\n",
    "    # loops through samples and saves them as sample_nodes\n",
    "    sample_nodes = [s[0] for s in samples]\n",
    "    # convetss each text in sample nodes to a sequence of integers\n",
    "    sample_nodes = tokenizer.texts_to_sequences(sample_nodes)\n",
    "    # pads sequence to the same length ﴾all sequences in a list to have the same length﴿, it \n",
    "    # does so by padding 0 in the beggining of each sequence until they have the same length as \n",
    "    # the longest sequence.\n",
    "    sample_nodes = pad_sequences(sample_nodes, padding='post')\n",
    "    # retuns the shape of the array as a tuple\n",
    "    max_nodes_len = np.shape(sample_nodes)[1]\n",
    "    # grabs edges by looping through samples (s) and only grabbing the second column [1] elements\n",
    "    edges = [s[1]+i*max_nodes_len for i,s in enumerate(samples)]\n",
    "    # make sure the len is not 0 or empty edges\n",
    "    edges = [e for e in edges if len(e) > 0]\n",
    "    # grabs nodes by looping through all columns of the sample\n",
    "    node_to_graph = [[i]*max_nodes_len for i in range(len(samples))]\n",
    "    \n",
    "    # reshapes all_nodes to a one-shaped dimesion (-1) \n",
    "    all_nodes = np.reshape(sample_nodes, -1)\n",
    "    # joins all edges into a single array\n",
    "    all_edges = np.concatenate(edges)\n",
    "\n",
    "    node_to_graph = np.reshape(node_to_graph, -1)\n",
    "    return {\n",
    "        'data': all_nodes,\n",
    "        'edges': all_edges,\n",
    "        'node2grah': node_to_graph,\n",
    "    }, np.array([s[2] for s in samples])\n",
    "\n",
    "\n",
    "# function to generate batch\n",
    "def gen_batch(dataset, batch_size=16, repeat=False, shuffle=True):\n",
    "    while True:\n",
    "        # converts dataset to a list of samples\n",
    "        dataset = list(dataset)\n",
    "        # if shuffle is set to TRUE, the dataset is shuffled (reorganizes order of items)\n",
    "        if shuffle:\n",
    "            random.shuffle(dataset)\n",
    "        # sets of the length of dataset to new variable 'l'\n",
    "        l = len(dataset) \n",
    "        # loops through the sequence of number from the beginning (0) to the lenth of\n",
    "        # the dataset (l) and increment by batch size (16 for now)\n",
    "        for ndx in range(0, l, batch_size):\n",
    "            # creates batch samples by looping the index data set and using min() to \n",
    "            # make sure nothing is out of bound. For example if we're stepping by 16, and\n",
    "            # hypothetically our dataset is 100 then we could get out of bound errors, therefore\n",
    "            # using min(1) we can take lesser of the two and avoid that problem\n",
    "            batch_samples = dataset[ndx:min(ndx + batch_size, l)]\n",
    "            yield prepare_single_batch(batch_samples)\n",
    "        if not repeat:\n",
    "            break\n"
   ]
  },
  {
   "cell_type": "code",
   "execution_count": 11,
   "metadata": {
    "colab": {
     "base_uri": "https://localhost:8080/"
    },
    "id": "Dsb7GHApH25o",
    "outputId": "098d557e-c377-4068-fff1-8da99a1e1a49"
   },
   "outputs": [
    {
     "name": "stdout",
     "output_type": "stream",
     "text": [
      "data\n",
      "[4 4 2 2 3 3 3 3 3 3 1 1 1 1 1 1 1 1 1 1 1 1 1 1 1 1 1 1 1 1 1 1 1 1 1 1 1\n",
      " 1 1 1 1 1 2 3 3 3 1 1 1 1 1 1 1 1 1 1 1 1 1 0 0 0 0 0 0 0 0 0 0 0 0 0 0 0\n",
      " 0 0 0 0 0 0 0 0 0 0 4 4 8 8 1 1 1 1 1 1 1 1 1 1 1 1 1 1 1 1 1 1 1 1 1 1 1\n",
      " 1 1 1 1 1 1 1 0 0 0 0 0 0 0 0 5 4 2 2 3 3 1 1 1 1 1 1 1 1 1 1 1 1 1 1 1 1\n",
      " 1 1 0 0 0 0 0 0 0 0 0 0 0 0 0 0 0 0 0 0]\n",
      "edges\n",
      "[[  0  12]\n",
      " [  1  14]\n",
      " [  1  19]\n",
      " [  2  38]\n",
      " [  2  40]\n",
      " [  3  39]\n",
      " [  3  41]\n",
      " [  4  10]\n",
      " [  4  12]\n",
      " [  4  13]\n",
      " [  5   8]\n",
      " [  5  11]\n",
      " [  5  12]\n",
      " [  6  10]\n",
      " [  6  17]\n",
      " [  7  11]\n",
      " [  7  18]\n",
      " [  8  15]\n",
      " [  9  14]\n",
      " [  9  16]\n",
      " [  9  31]\n",
      " [ 10  11]\n",
      " [ 13  20]\n",
      " [ 13  21]\n",
      " [ 14  15]\n",
      " [ 16  19]\n",
      " [ 16  22]\n",
      " [ 17  25]\n",
      " [ 17  26]\n",
      " [ 18  28]\n",
      " [ 18  29]\n",
      " [ 19  27]\n",
      " [ 20  23]\n",
      " [ 21  24]\n",
      " [ 22  32]\n",
      " [ 23  30]\n",
      " [ 24  30]\n",
      " [ 25  34]\n",
      " [ 26  35]\n",
      " [ 27  33]\n",
      " [ 28  36]\n",
      " [ 29  37]\n",
      " [ 32  33]\n",
      " [ 34  38]\n",
      " [ 35  38]\n",
      " [ 36  39]\n",
      " [ 37  39]\n",
      " [ 42  47]\n",
      " [ 43  44]\n",
      " [ 43  47]\n",
      " [ 43  48]\n",
      " [ 44  46]\n",
      " [ 45  49]\n",
      " [ 45  54]\n",
      " [ 46  49]\n",
      " [ 46  50]\n",
      " [ 47  50]\n",
      " [ 48  52]\n",
      " [ 48  53]\n",
      " [ 49  51]\n",
      " [ 51  55]\n",
      " [ 52  56]\n",
      " [ 53  57]\n",
      " [ 54  55]\n",
      " [ 56  58]\n",
      " [ 57  58]\n",
      " [ 84  86]\n",
      " [ 85  87]\n",
      " [ 86  88]\n",
      " [ 86  94]\n",
      " [ 86  95]\n",
      " [ 87  89]\n",
      " [ 87  96]\n",
      " [ 87  97]\n",
      " [ 88  89]\n",
      " [ 88  90]\n",
      " [ 88  91]\n",
      " [ 89  92]\n",
      " [ 89  93]\n",
      " [ 90  91]\n",
      " [ 92  93]\n",
      " [ 94  98]\n",
      " [ 94 102]\n",
      " [ 95  99]\n",
      " [ 95 103]\n",
      " [ 96 100]\n",
      " [ 96 104]\n",
      " [ 97 101]\n",
      " [ 97 105]\n",
      " [ 98 106]\n",
      " [ 99 107]\n",
      " [100 108]\n",
      " [101 109]\n",
      " [102 110]\n",
      " [103 111]\n",
      " [104 112]\n",
      " [105 113]\n",
      " [106 114]\n",
      " [107 115]\n",
      " [108 116]\n",
      " [109 117]\n",
      " [110 114]\n",
      " [111 115]\n",
      " [112 116]\n",
      " [113 117]\n",
      " [126 137]\n",
      " [127 133]\n",
      " [127 138]\n",
      " [128 132]\n",
      " [128 139]\n",
      " [129 139]\n",
      " [130 135]\n",
      " [130 138]\n",
      " [131 136]\n",
      " [131 145]\n",
      " [131 146]\n",
      " [132 133]\n",
      " [132 134]\n",
      " [133 135]\n",
      " [134 136]\n",
      " [134 140]\n",
      " [135 141]\n",
      " [136 137]\n",
      " [137 139]\n",
      " [138 142]\n",
      " [140 141]\n",
      " [142 143]\n",
      " [142 144]\n",
      " [143 147]\n",
      " [144 148]\n",
      " [147 149]\n",
      " [148 149]]\n",
      "node2grah\n",
      "[0 0 0 0 0 0 0 0 0 0 0 0 0 0 0 0 0 0 0 0 0 0 0 0 0 0 0 0 0 0 0 0 0 0 0 0 0\n",
      " 0 0 0 0 0 1 1 1 1 1 1 1 1 1 1 1 1 1 1 1 1 1 1 1 1 1 1 1 1 1 1 1 1 1 1 1 1\n",
      " 1 1 1 1 1 1 1 1 1 1 2 2 2 2 2 2 2 2 2 2 2 2 2 2 2 2 2 2 2 2 2 2 2 2 2 2 2\n",
      " 2 2 2 2 2 2 2 2 2 2 2 2 2 2 2 3 3 3 3 3 3 3 3 3 3 3 3 3 3 3 3 3 3 3 3 3 3\n",
      " 3 3 3 3 3 3 3 3 3 3 3 3 3 3 3 3 3 3 3 3]\n",
      "label [0 0 0 0]\n"
     ]
    }
   ],
   "source": [
    "# showing one batch:\n",
    "for train_batch in gen_batch(training_set, batch_size=4):\n",
    "    for k,v in train_batch[0].items():\n",
    "        print(k)\n",
    "        print(v)\n",
    "        pass\n",
    "    print('label', train_batch[1])\n",
    "    break"
   ]
  },
  {
   "cell_type": "code",
   "execution_count": 12,
   "metadata": {
    "colab": {
     "base_uri": "https://localhost:8080/"
    },
    "id": "H9EGTO-WH25o",
    "outputId": "119765fe-215a-4ce5-bcd5-d537bd15e0c8"
   },
   "outputs": [
    {
     "name": "stdout",
     "output_type": "stream",
     "text": [
      "\u001b[K     |████████████████████████████████| 51kB 6.9MB/s \n",
      "\u001b[K     |████████████████████████████████| 71kB 6.0MB/s \n",
      "\u001b[K     |████████████████████████████████| 194kB 25.6MB/s \n",
      "\u001b[K     |████████████████████████████████| 1.1MB 44.7MB/s \n",
      "\u001b[K     |████████████████████████████████| 2.6MB 60.0MB/s \n",
      "\u001b[?25h  Building wheel for tf2-gnn (setup.py) ... \u001b[?25l\u001b[?25hdone\n"
     ]
    }
   ],
   "source": [
    "!pip install --quiet tf2_gnn\n",
    "\n",
    "# https://github.com/microsoft/tf2-gnn\n",
    "# https://github.com/microsoft/tf2-gnn/blob/master/tf2_gnn/layers/gnn.py\n",
    "\n",
    "from tf2_gnn.layers.gnn import GNN, GNNInput"
   ]
  },
  {
   "cell_type": "code",
   "execution_count": 13,
   "metadata": {
    "colab": {
     "base_uri": "https://localhost:8080/"
    },
    "id": "7NBu49-_H25o",
    "outputId": "d3541c03-f320-4599-c739-83691a34de98"
   },
   "outputs": [
    {
     "name": "stdout",
     "output_type": "stream",
     "text": [
      "data: Tensor(\"input_4:0\", shape=(None,), dtype=float32)\n",
      "embeded: Tensor(\"embedding/embedding_lookup/Identity_1:0\", shape=(None, 20), dtype=float32)\n",
      "gnn_out Tensor(\"gnn/StatefulPartitionedCall:0\", shape=(None, 32), dtype=float32)\n",
      "mean: Tensor(\"SegmentMean:0\", shape=(None, 32), dtype=float32)\n",
      "pred: Tensor(\"dense/Sigmoid:0\", shape=(None, 1), dtype=float32)\n",
      "Model: \"functional_1\"\n",
      "__________________________________________________________________________________________________\n",
      "Layer (type)                    Output Shape         Param #     Connected to                     \n",
      "==================================================================================================\n",
      "input_6 (InputLayer)            [(None,)]            0                                            \n",
      "__________________________________________________________________________________________________\n",
      "input_4 (InputLayer)            [(None,)]            0                                            \n",
      "__________________________________________________________________________________________________\n",
      "tf_op_layer_Max (TensorFlowOpLa [()]                 0           input_6[0][0]                    \n",
      "__________________________________________________________________________________________________\n",
      "embedding (Embedding)           (None, 20)           10000       input_4[0][0]                    \n",
      "__________________________________________________________________________________________________\n",
      "input_5 (InputLayer)            [(None, 2)]          0                                            \n",
      "__________________________________________________________________________________________________\n",
      "tf_op_layer_AddV2 (TensorFlowOp [()]                 0           tf_op_layer_Max[0][0]            \n",
      "__________________________________________________________________________________________________\n",
      "gnn (GNN)                       (None, 32)           78720       embedding[0][0]                  \n",
      "                                                                 input_5[0][0]                    \n",
      "                                                                 input_6[0][0]                    \n",
      "                                                                 tf_op_layer_AddV2[0][0]          \n",
      "__________________________________________________________________________________________________\n",
      "tf_op_layer_SegmentMean (Tensor [(None, 32)]         0           gnn[0][0]                        \n",
      "                                                                 input_6[0][0]                    \n",
      "__________________________________________________________________________________________________\n",
      "dense (Dense)                   (None, 1)            33          tf_op_layer_SegmentMean[0][0]    \n",
      "==================================================================================================\n",
      "Total params: 88,753\n",
      "Trainable params: 88,753\n",
      "Non-trainable params: 0\n",
      "__________________________________________________________________________________________________\n"
     ]
    }
   ],
   "source": [
    "import tensorflow as tf\n",
    "from tensorflow.math import segment_mean\n",
    "from tensorflow import keras\n",
    "from tensorflow.keras import Input, Model\n",
    "from tensorflow.keras.layers import Embedding, Dense\n",
    "from tensorflow.keras.optimizers import Adam\n",
    "\n",
    "data = keras.Input(batch_shape=(None,))\n",
    "print(\"data:\", data)\n",
    "# the first dim is different to the previous one. it is the total number of edges in this batch\n",
    "edge = keras.Input(batch_shape=(None, 2), dtype=tf.int32)\n",
    "node2graph = keras.Input(batch_shape=(None,), dtype=tf.int32)\n",
    "# this layer can only be used as the first layer in a model. This is the first hidden layer of a \n",
    "# network and will learn an embedding for all of the words in the training dataset. Here we are giving \n",
    "# it input and output integers\n",
    "embeded = Embedding(tokenizer.num_words, 20)(data)\n",
    "print(\"embeded:\", embeded)\n",
    "# number of graphs (number of samples)\n",
    "# computes the maximum of elemnts across dimensions \n",
    "num_graph = tf.reduce_max(node2graph)+1\n",
    "\n",
    "# Encode graph states using a combination of graph message passing layers and dense layers\n",
    "gnn_input = GNNInput(\n",
    "    node_features=embeded,\n",
    "    adjacency_lists=(edge,),\n",
    "    # computes graph-level representation given node-level representation (obtained by GNN layer)\n",
    "    node_to_graph_map=node2graph, \n",
    "    num_graphs=num_graph,\n",
    ")\n",
    "\n",
    "# https://github.com/microsoft/tf2-gnn/blob/master/tf2_gnn/layers/gnn.py\n",
    "# gets the default hyperparameter dictionary for the class\n",
    "params = GNN.get_default_hyperparameters()\n",
    "# sets the size of the output of all message passing layers\n",
    "params[\"hidden_dim\"] = 32\n",
    "params[\"aggregation_function\"] = \"sum\" # One of sum, mean, max, sqrt_n\n",
    "params[\"message_activation_function\"] = \"relu\" # One of relu, leaky_relu, elu, gelu, tanh\n",
    "params[\"message_activation_before_aggregation\"] = True # Change to True to apply activation _before_ aggregation.\n",
    "params[\"num_layers\"] = 10\n",
    "\n",
    "gnn_layer = GNN(params)\n",
    "gnn_out = gnn_layer(gnn_input)\n",
    "\n",
    "print('gnn_out', gnn_out)\n",
    "\n",
    "# https://www.tensorflow.org/api_docs/python/tf/math/segment_mean\n",
    "# computes the mean along sements of a tensor\n",
    "avg = segment_mean(\n",
    "    data=gnn_out,\n",
    "    segment_ids=node2graph\n",
    ")\n",
    "print('mean:', avg)\n",
    "\n",
    "pred = Dense(1, activation='sigmoid')(avg)\n",
    "print('pred:', pred)\n",
    "\n",
    "model = Model(\n",
    "    inputs={\n",
    "        'data': data,\n",
    "        'edges': edge,\n",
    "        'node2grah': node2graph,\n",
    "    },\n",
    "    outputs=pred\n",
    ")\n",
    "model.summary()"
   ]
  },
  {
   "cell_type": "code",
   "execution_count": 14,
   "metadata": {
    "id": "3tJ37ZP5H25p"
   },
   "outputs": [],
   "source": [
    "model.compile(\n",
    "    loss='BinaryCrossentropy',\n",
    "    optimizer = 'RMSprop',\n",
    "    metrics=['AUC']\n",
    ")"
   ]
  },
  {
   "cell_type": "code",
   "execution_count": 15,
   "metadata": {
    "colab": {
     "base_uri": "https://localhost:8080/"
    },
    "id": "pBlpDJRpH25p",
    "outputId": "373835f3-c129-40eb-f0cc-24ad79e8f609"
   },
   "outputs": [
    {
     "name": "stdout",
     "output_type": "stream",
     "text": [
      "Epoch 1/40\n"
     ]
    },
    {
     "name": "stderr",
     "output_type": "stream",
     "text": [
      "/usr/local/lib/python3.6/dist-packages/tensorflow/python/framework/indexed_slices.py:432: UserWarning: Converting sparse IndexedSlices to a dense Tensor of unknown shape. This may consume a large amount of memory.\n",
      "  \"Converting sparse IndexedSlices to a dense Tensor of unknown shape. \"\n"
     ]
    },
    {
     "name": "stdout",
     "output_type": "stream",
     "text": [
      "213/213 [==============================] - 7s 33ms/step - loss: 0.2918 - auc: 0.4075 - val_loss: 0.2199 - val_auc: 0.5543\n",
      "Epoch 2/40\n",
      "213/213 [==============================] - 6s 30ms/step - loss: 0.2073 - auc: 0.5537 - val_loss: 0.1962 - val_auc: 0.6713\n",
      "Epoch 3/40\n",
      "213/213 [==============================] - 6s 30ms/step - loss: 0.1955 - auc: 0.6179 - val_loss: 0.2392 - val_auc: 0.6680\n",
      "Epoch 4/40\n",
      "213/213 [==============================] - 6s 30ms/step - loss: 0.1923 - auc: 0.6286 - val_loss: 0.2024 - val_auc: 0.6253\n",
      "Epoch 5/40\n",
      "213/213 [==============================] - 6s 30ms/step - loss: 0.1876 - auc: 0.6565 - val_loss: 0.1950 - val_auc: 0.6533\n",
      "Epoch 6/40\n",
      "213/213 [==============================] - 6s 30ms/step - loss: 0.1852 - auc: 0.6668 - val_loss: 0.1848 - val_auc: 0.6982\n",
      "Epoch 7/40\n",
      "213/213 [==============================] - 6s 30ms/step - loss: 0.1850 - auc: 0.6655 - val_loss: 0.2317 - val_auc: 0.6970\n",
      "Epoch 8/40\n",
      "213/213 [==============================] - 6s 30ms/step - loss: 0.1836 - auc: 0.6759 - val_loss: 0.1761 - val_auc: 0.7254\n",
      "Epoch 9/40\n",
      "213/213 [==============================] - 6s 30ms/step - loss: 0.1813 - auc: 0.6866 - val_loss: 0.1864 - val_auc: 0.7150\n",
      "Epoch 10/40\n",
      "213/213 [==============================] - 7s 31ms/step - loss: 0.1800 - auc: 0.6919 - val_loss: 0.1903 - val_auc: 0.6962\n",
      "Epoch 11/40\n",
      "213/213 [==============================] - 6s 30ms/step - loss: 0.1804 - auc: 0.6903 - val_loss: 0.1842 - val_auc: 0.7248\n",
      "Epoch 12/40\n",
      "213/213 [==============================] - 6s 30ms/step - loss: 0.1792 - auc: 0.6962 - val_loss: 0.1810 - val_auc: 0.7045\n",
      "Epoch 13/40\n",
      "213/213 [==============================] - 6s 30ms/step - loss: 0.1809 - auc: 0.6806 - val_loss: 0.1852 - val_auc: 0.7162\n",
      "Epoch 14/40\n",
      "213/213 [==============================] - 6s 30ms/step - loss: 0.1789 - auc: 0.6934 - val_loss: 0.1805 - val_auc: 0.7026\n",
      "Epoch 15/40\n",
      "213/213 [==============================] - 6s 30ms/step - loss: 0.1795 - auc: 0.7009 - val_loss: 0.1882 - val_auc: 0.7077\n",
      "Epoch 16/40\n",
      "213/213 [==============================] - 6s 30ms/step - loss: 0.1777 - auc: 0.7154 - val_loss: 0.1864 - val_auc: 0.7033\n",
      "Epoch 17/40\n",
      "213/213 [==============================] - 6s 30ms/step - loss: 0.1780 - auc: 0.7072 - val_loss: 0.1715 - val_auc: 0.7258\n",
      "Epoch 18/40\n",
      "213/213 [==============================] - 6s 30ms/step - loss: 0.1780 - auc: 0.7027 - val_loss: 0.1977 - val_auc: 0.7153\n",
      "Epoch 19/40\n",
      "213/213 [==============================] - 6s 30ms/step - loss: 0.1766 - auc: 0.7089 - val_loss: 0.1839 - val_auc: 0.7106\n",
      "Epoch 20/40\n",
      "213/213 [==============================] - 6s 30ms/step - loss: 0.1739 - auc: 0.7268 - val_loss: 0.1756 - val_auc: 0.7485\n",
      "Epoch 21/40\n",
      "213/213 [==============================] - 6s 30ms/step - loss: 0.1758 - auc: 0.7150 - val_loss: 0.1917 - val_auc: 0.7236\n",
      "Epoch 22/40\n",
      "213/213 [==============================] - 6s 30ms/step - loss: 0.1758 - auc: 0.7147 - val_loss: 0.1885 - val_auc: 0.7214\n",
      "Epoch 23/40\n",
      "213/213 [==============================] - 7s 31ms/step - loss: 0.1743 - auc: 0.7282 - val_loss: 0.1898 - val_auc: 0.7445\n",
      "Epoch 24/40\n",
      "213/213 [==============================] - 7s 31ms/step - loss: 0.1751 - auc: 0.7234 - val_loss: 0.1718 - val_auc: 0.7221\n",
      "Epoch 25/40\n",
      "213/213 [==============================] - 7s 31ms/step - loss: 0.1737 - auc: 0.7237 - val_loss: 0.1863 - val_auc: 0.7342\n",
      "Epoch 26/40\n",
      "213/213 [==============================] - 7s 31ms/step - loss: 0.1732 - auc: 0.7284 - val_loss: 0.1761 - val_auc: 0.7647\n",
      "Epoch 27/40\n",
      "213/213 [==============================] - 7s 31ms/step - loss: 0.1718 - auc: 0.7383 - val_loss: 0.1765 - val_auc: 0.7280\n",
      "Epoch 28/40\n",
      "213/213 [==============================] - 7s 31ms/step - loss: 0.1727 - auc: 0.7345 - val_loss: 0.1768 - val_auc: 0.7236\n",
      "Epoch 29/40\n",
      "213/213 [==============================] - 7s 31ms/step - loss: 0.1708 - auc: 0.7402 - val_loss: 0.1800 - val_auc: 0.7400\n",
      "Epoch 30/40\n",
      "213/213 [==============================] - 6s 30ms/step - loss: 0.1712 - auc: 0.7355 - val_loss: 0.1805 - val_auc: 0.7370\n",
      "Epoch 31/40\n",
      "213/213 [==============================] - 7s 31ms/step - loss: 0.1720 - auc: 0.7315 - val_loss: 0.1799 - val_auc: 0.7539\n",
      "Epoch 32/40\n",
      "213/213 [==============================] - 7s 31ms/step - loss: 0.1704 - auc: 0.7428 - val_loss: 0.1690 - val_auc: 0.7439\n",
      "Epoch 33/40\n",
      "213/213 [==============================] - 7s 31ms/step - loss: 0.1712 - auc: 0.7382 - val_loss: 0.1756 - val_auc: 0.7602\n",
      "Epoch 34/40\n",
      "213/213 [==============================] - 7s 31ms/step - loss: 0.1688 - auc: 0.7480 - val_loss: 0.1812 - val_auc: 0.7121\n",
      "Epoch 35/40\n",
      "213/213 [==============================] - 7s 31ms/step - loss: 0.1695 - auc: 0.7433 - val_loss: 0.1659 - val_auc: 0.7668\n",
      "Epoch 36/40\n",
      "213/213 [==============================] - 7s 31ms/step - loss: 0.1695 - auc: 0.7412 - val_loss: 0.1723 - val_auc: 0.7361\n",
      "Epoch 37/40\n",
      "213/213 [==============================] - 7s 31ms/step - loss: 0.1691 - auc: 0.7455 - val_loss: 0.1741 - val_auc: 0.7514\n",
      "Epoch 38/40\n",
      "213/213 [==============================] - 6s 30ms/step - loss: 0.1696 - auc: 0.7481 - val_loss: 0.1754 - val_auc: 0.7432\n",
      "Epoch 39/40\n",
      "213/213 [==============================] - 6s 30ms/step - loss: 0.1725 - auc: 0.7378 - val_loss: 0.1773 - val_auc: 0.7163\n",
      "Epoch 40/40\n",
      "213/213 [==============================] - 6s 30ms/step - loss: 0.1698 - auc: 0.7500 - val_loss: 0.1756 - val_auc: 0.7459\n"
     ]
    },
    {
     "data": {
      "text/plain": [
       "<tensorflow.python.keras.callbacks.History at 0x7f66f6088320>"
      ]
     },
     "execution_count": 15,
     "metadata": {
      "tags": []
     },
     "output_type": "execute_result"
    }
   ],
   "source": [
    "import math\n",
    "\n",
    "batch_size = 100\n",
    "num_batchs = math.ceil(len(training_set) / batch_size)\n",
    "num_batchs_validation = math.ceil(len(validation_set) / batch_size)\n",
    "\n",
    "model.fit(\n",
    "    gen_batch(\n",
    "        training_set, batch_size=batch_size, repeat=True\n",
    "    ),\n",
    "    steps_per_epoch=num_batchs,\n",
    "    epochs=40,\n",
    "    validation_data=gen_batch(\n",
    "        validation_set, batch_size=batch_size, repeat=True\n",
    "    ),\n",
    "    validation_steps=num_batchs_validation,\n",
    ")"
   ]
  },
  {
   "cell_type": "code",
   "execution_count": 34,
   "metadata": {
    "id": "G38H1q4CH25p"
   },
   "outputs": [],
   "source": [
    "y_pred = model.predict(\n",
    "    gen_batch(testing_set, batch_size=batch_size, shuffle=False)\n",
    ")\n",
    "y_pred = np.reshape(y_pred, -1)"
   ]
  },
  {
   "cell_type": "code",
   "execution_count": 25,
   "metadata": {
    "colab": {
     "base_uri": "https://localhost:8080/"
    },
    "id": "FbCfamTyH25q",
    "outputId": "6cb3bf87-4c43-47b0-8519-86ebe14af0ed"
   },
   "outputs": [
    {
     "data": {
      "text/plain": [
       "12326"
      ]
     },
     "execution_count": 25,
     "metadata": {
      "tags": []
     },
     "output_type": "execute_result"
    }
   ],
   "source": [
    "len(y_pred)"
   ]
  },
  {
   "cell_type": "code",
   "execution_count": 35,
   "metadata": {
    "id": "V3ZN7pbVH25q"
   },
   "outputs": [],
   "source": [
    "import pandas as pd \n",
    "submission = pd.DataFrame({'label':y_pred})\n",
    "submission.index.name = 'id'\n",
    "submission.to_csv('aggregation_sum_100ayers_epoc40_bs100_relu_.csv')"
   ]
  },
  {
   "cell_type": "code",
   "execution_count": null,
   "metadata": {
    "id": "nDLKxHpjH25r"
   },
   "outputs": [],
   "source": []
  }
 ],
 "metadata": {
  "accelerator": "GPU",
  "colab": {
   "collapsed_sections": [],
   "name": "Assignment5.ipynb",
   "provenance": []
  },
  "kernelspec": {
   "display_name": "Python 3",
   "language": "python",
   "name": "python3"
  },
  "language_info": {
   "codemirror_mode": {
    "name": "ipython",
    "version": 3
   },
   "file_extension": ".py",
   "mimetype": "text/x-python",
   "name": "python",
   "nbconvert_exporter": "python",
   "pygments_lexer": "ipython3",
   "version": "3.7.6"
  },
  "widgets": {
   "application/vnd.jupyter.widget-state+json": {
    "146519f4242f4e0984562d6660cb541c": {
     "model_module": "@jupyter-widgets/controls",
     "model_name": "HBoxModel",
     "state": {
      "_dom_classes": [],
      "_model_module": "@jupyter-widgets/controls",
      "_model_module_version": "1.5.0",
      "_model_name": "HBoxModel",
      "_view_count": null,
      "_view_module": "@jupyter-widgets/controls",
      "_view_module_version": "1.5.0",
      "_view_name": "HBoxView",
      "box_style": "",
      "children": [
       "IPY_MODEL_c2fe5eff508b45d1820869412865f871",
       "IPY_MODEL_83f04c44e5b34b3c9397ac5b0f48affa"
      ],
      "layout": "IPY_MODEL_1a077615578040b5890eaae9bf2a8c53"
     }
    },
    "1a077615578040b5890eaae9bf2a8c53": {
     "model_module": "@jupyter-widgets/base",
     "model_name": "LayoutModel",
     "state": {
      "_model_module": "@jupyter-widgets/base",
      "_model_module_version": "1.2.0",
      "_model_name": "LayoutModel",
      "_view_count": null,
      "_view_module": "@jupyter-widgets/base",
      "_view_module_version": "1.2.0",
      "_view_name": "LayoutView",
      "align_content": null,
      "align_items": null,
      "align_self": null,
      "border": null,
      "bottom": null,
      "display": null,
      "flex": null,
      "flex_flow": null,
      "grid_area": null,
      "grid_auto_columns": null,
      "grid_auto_flow": null,
      "grid_auto_rows": null,
      "grid_column": null,
      "grid_gap": null,
      "grid_row": null,
      "grid_template_areas": null,
      "grid_template_columns": null,
      "grid_template_rows": null,
      "height": null,
      "justify_content": null,
      "justify_items": null,
      "left": null,
      "margin": null,
      "max_height": null,
      "max_width": null,
      "min_height": null,
      "min_width": null,
      "object_fit": null,
      "object_position": null,
      "order": null,
      "overflow": null,
      "overflow_x": null,
      "overflow_y": null,
      "padding": null,
      "right": null,
      "top": null,
      "visibility": null,
      "width": null
     }
    },
    "403c3a867ecc4bf48e6575b35a8edf59": {
     "model_module": "@jupyter-widgets/base",
     "model_name": "LayoutModel",
     "state": {
      "_model_module": "@jupyter-widgets/base",
      "_model_module_version": "1.2.0",
      "_model_name": "LayoutModel",
      "_view_count": null,
      "_view_module": "@jupyter-widgets/base",
      "_view_module_version": "1.2.0",
      "_view_name": "LayoutView",
      "align_content": null,
      "align_items": null,
      "align_self": null,
      "border": null,
      "bottom": null,
      "display": null,
      "flex": null,
      "flex_flow": null,
      "grid_area": null,
      "grid_auto_columns": null,
      "grid_auto_flow": null,
      "grid_auto_rows": null,
      "grid_column": null,
      "grid_gap": null,
      "grid_row": null,
      "grid_template_areas": null,
      "grid_template_columns": null,
      "grid_template_rows": null,
      "height": null,
      "justify_content": null,
      "justify_items": null,
      "left": null,
      "margin": null,
      "max_height": null,
      "max_width": null,
      "min_height": null,
      "min_width": null,
      "object_fit": null,
      "object_position": null,
      "order": null,
      "overflow": null,
      "overflow_x": null,
      "overflow_y": null,
      "padding": null,
      "right": null,
      "top": null,
      "visibility": null,
      "width": null
     }
    },
    "4e091e03ddce4fdfb4261121671a4274": {
     "model_module": "@jupyter-widgets/controls",
     "model_name": "DescriptionStyleModel",
     "state": {
      "_model_module": "@jupyter-widgets/controls",
      "_model_module_version": "1.5.0",
      "_model_name": "DescriptionStyleModel",
      "_view_count": null,
      "_view_module": "@jupyter-widgets/base",
      "_view_module_version": "1.2.0",
      "_view_name": "StyleView",
      "description_width": ""
     }
    },
    "66c81f6e19bd47ed97e48d5953b0e1d8": {
     "model_module": "@jupyter-widgets/controls",
     "model_name": "ProgressStyleModel",
     "state": {
      "_model_module": "@jupyter-widgets/controls",
      "_model_module_version": "1.5.0",
      "_model_name": "ProgressStyleModel",
      "_view_count": null,
      "_view_module": "@jupyter-widgets/base",
      "_view_module_version": "1.2.0",
      "_view_name": "StyleView",
      "bar_color": null,
      "description_width": "initial"
     }
    },
    "786ec58dff294861a57552fc1c8e7a28": {
     "model_module": "@jupyter-widgets/controls",
     "model_name": "HBoxModel",
     "state": {
      "_dom_classes": [],
      "_model_module": "@jupyter-widgets/controls",
      "_model_module_version": "1.5.0",
      "_model_name": "HBoxModel",
      "_view_count": null,
      "_view_module": "@jupyter-widgets/controls",
      "_view_module_version": "1.5.0",
      "_view_name": "HBoxView",
      "box_style": "",
      "children": [
       "IPY_MODEL_ed91137a8bc84a089db68f9f977cc0c2",
       "IPY_MODEL_f80164da346f4cfd8c1339d8b1da0a70"
      ],
      "layout": "IPY_MODEL_bc1e6d0d4e4448e1a20ee2e0bb0c5b10"
     }
    },
    "78ebdf08b9c5465b8178df4c6f8ede38": {
     "model_module": "@jupyter-widgets/base",
     "model_name": "LayoutModel",
     "state": {
      "_model_module": "@jupyter-widgets/base",
      "_model_module_version": "1.2.0",
      "_model_name": "LayoutModel",
      "_view_count": null,
      "_view_module": "@jupyter-widgets/base",
      "_view_module_version": "1.2.0",
      "_view_name": "LayoutView",
      "align_content": null,
      "align_items": null,
      "align_self": null,
      "border": null,
      "bottom": null,
      "display": null,
      "flex": null,
      "flex_flow": null,
      "grid_area": null,
      "grid_auto_columns": null,
      "grid_auto_flow": null,
      "grid_auto_rows": null,
      "grid_column": null,
      "grid_gap": null,
      "grid_row": null,
      "grid_template_areas": null,
      "grid_template_columns": null,
      "grid_template_rows": null,
      "height": null,
      "justify_content": null,
      "justify_items": null,
      "left": null,
      "margin": null,
      "max_height": null,
      "max_width": null,
      "min_height": null,
      "min_width": null,
      "object_fit": null,
      "object_position": null,
      "order": null,
      "overflow": null,
      "overflow_x": null,
      "overflow_y": null,
      "padding": null,
      "right": null,
      "top": null,
      "visibility": null,
      "width": null
     }
    },
    "83f04c44e5b34b3c9397ac5b0f48affa": {
     "model_module": "@jupyter-widgets/controls",
     "model_name": "HTMLModel",
     "state": {
      "_dom_classes": [],
      "_model_module": "@jupyter-widgets/controls",
      "_model_module_version": "1.5.0",
      "_model_name": "HTMLModel",
      "_view_count": null,
      "_view_module": "@jupyter-widgets/controls",
      "_view_module_version": "1.5.0",
      "_view_name": "HTMLView",
      "description": "",
      "description_tooltip": null,
      "layout": "IPY_MODEL_78ebdf08b9c5465b8178df4c6f8ede38",
      "placeholder": "​",
      "style": "IPY_MODEL_c561cee42322407cb6a53eae2bfba757",
      "value": " 12326/12326 [00:06&lt;00:00, 2028.07it/s]"
     }
    },
    "993702ea429a48c4bd3020c2a7e4d536": {
     "model_module": "@jupyter-widgets/base",
     "model_name": "LayoutModel",
     "state": {
      "_model_module": "@jupyter-widgets/base",
      "_model_module_version": "1.2.0",
      "_model_name": "LayoutModel",
      "_view_count": null,
      "_view_module": "@jupyter-widgets/base",
      "_view_module_version": "1.2.0",
      "_view_name": "LayoutView",
      "align_content": null,
      "align_items": null,
      "align_self": null,
      "border": null,
      "bottom": null,
      "display": null,
      "flex": null,
      "flex_flow": null,
      "grid_area": null,
      "grid_auto_columns": null,
      "grid_auto_flow": null,
      "grid_auto_rows": null,
      "grid_column": null,
      "grid_gap": null,
      "grid_row": null,
      "grid_template_areas": null,
      "grid_template_columns": null,
      "grid_template_rows": null,
      "height": null,
      "justify_content": null,
      "justify_items": null,
      "left": null,
      "margin": null,
      "max_height": null,
      "max_width": null,
      "min_height": null,
      "min_width": null,
      "object_fit": null,
      "object_position": null,
      "order": null,
      "overflow": null,
      "overflow_x": null,
      "overflow_y": null,
      "padding": null,
      "right": null,
      "top": null,
      "visibility": null,
      "width": null
     }
    },
    "bc1e6d0d4e4448e1a20ee2e0bb0c5b10": {
     "model_module": "@jupyter-widgets/base",
     "model_name": "LayoutModel",
     "state": {
      "_model_module": "@jupyter-widgets/base",
      "_model_module_version": "1.2.0",
      "_model_name": "LayoutModel",
      "_view_count": null,
      "_view_module": "@jupyter-widgets/base",
      "_view_module_version": "1.2.0",
      "_view_name": "LayoutView",
      "align_content": null,
      "align_items": null,
      "align_self": null,
      "border": null,
      "bottom": null,
      "display": null,
      "flex": null,
      "flex_flow": null,
      "grid_area": null,
      "grid_auto_columns": null,
      "grid_auto_flow": null,
      "grid_auto_rows": null,
      "grid_column": null,
      "grid_gap": null,
      "grid_row": null,
      "grid_template_areas": null,
      "grid_template_columns": null,
      "grid_template_rows": null,
      "height": null,
      "justify_content": null,
      "justify_items": null,
      "left": null,
      "margin": null,
      "max_height": null,
      "max_width": null,
      "min_height": null,
      "min_width": null,
      "object_fit": null,
      "object_position": null,
      "order": null,
      "overflow": null,
      "overflow_x": null,
      "overflow_y": null,
      "padding": null,
      "right": null,
      "top": null,
      "visibility": null,
      "width": null
     }
    },
    "c2fe5eff508b45d1820869412865f871": {
     "model_module": "@jupyter-widgets/controls",
     "model_name": "FloatProgressModel",
     "state": {
      "_dom_classes": [],
      "_model_module": "@jupyter-widgets/controls",
      "_model_module_version": "1.5.0",
      "_model_name": "FloatProgressModel",
      "_view_count": null,
      "_view_module": "@jupyter-widgets/controls",
      "_view_module_version": "1.5.0",
      "_view_name": "ProgressView",
      "bar_style": "success",
      "description": "100%",
      "description_tooltip": null,
      "layout": "IPY_MODEL_db14708ff1ee4d259320ef8b2d780595",
      "max": 12326,
      "min": 0,
      "orientation": "horizontal",
      "style": "IPY_MODEL_66c81f6e19bd47ed97e48d5953b0e1d8",
      "value": 12326
     }
    },
    "c561cee42322407cb6a53eae2bfba757": {
     "model_module": "@jupyter-widgets/controls",
     "model_name": "DescriptionStyleModel",
     "state": {
      "_model_module": "@jupyter-widgets/controls",
      "_model_module_version": "1.5.0",
      "_model_name": "DescriptionStyleModel",
      "_view_count": null,
      "_view_module": "@jupyter-widgets/base",
      "_view_module_version": "1.2.0",
      "_view_name": "StyleView",
      "description_width": ""
     }
    },
    "db14708ff1ee4d259320ef8b2d780595": {
     "model_module": "@jupyter-widgets/base",
     "model_name": "LayoutModel",
     "state": {
      "_model_module": "@jupyter-widgets/base",
      "_model_module_version": "1.2.0",
      "_model_name": "LayoutModel",
      "_view_count": null,
      "_view_module": "@jupyter-widgets/base",
      "_view_module_version": "1.2.0",
      "_view_name": "LayoutView",
      "align_content": null,
      "align_items": null,
      "align_self": null,
      "border": null,
      "bottom": null,
      "display": null,
      "flex": null,
      "flex_flow": null,
      "grid_area": null,
      "grid_auto_columns": null,
      "grid_auto_flow": null,
      "grid_auto_rows": null,
      "grid_column": null,
      "grid_gap": null,
      "grid_row": null,
      "grid_template_areas": null,
      "grid_template_columns": null,
      "grid_template_rows": null,
      "height": null,
      "justify_content": null,
      "justify_items": null,
      "left": null,
      "margin": null,
      "max_height": null,
      "max_width": null,
      "min_height": null,
      "min_width": null,
      "object_fit": null,
      "object_position": null,
      "order": null,
      "overflow": null,
      "overflow_x": null,
      "overflow_y": null,
      "padding": null,
      "right": null,
      "top": null,
      "visibility": null,
      "width": null
     }
    },
    "ec27be1466fc4361af0a09fee0eaffb6": {
     "model_module": "@jupyter-widgets/controls",
     "model_name": "ProgressStyleModel",
     "state": {
      "_model_module": "@jupyter-widgets/controls",
      "_model_module_version": "1.5.0",
      "_model_name": "ProgressStyleModel",
      "_view_count": null,
      "_view_module": "@jupyter-widgets/base",
      "_view_module_version": "1.2.0",
      "_view_name": "StyleView",
      "bar_color": null,
      "description_width": "initial"
     }
    },
    "ed91137a8bc84a089db68f9f977cc0c2": {
     "model_module": "@jupyter-widgets/controls",
     "model_name": "FloatProgressModel",
     "state": {
      "_dom_classes": [],
      "_model_module": "@jupyter-widgets/controls",
      "_model_module_version": "1.5.0",
      "_model_name": "FloatProgressModel",
      "_view_count": null,
      "_view_module": "@jupyter-widgets/controls",
      "_view_module_version": "1.5.0",
      "_view_name": "ProgressView",
      "bar_style": "success",
      "description": "100%",
      "description_tooltip": null,
      "layout": "IPY_MODEL_993702ea429a48c4bd3020c2a7e4d536",
      "max": 25024,
      "min": 0,
      "orientation": "horizontal",
      "style": "IPY_MODEL_ec27be1466fc4361af0a09fee0eaffb6",
      "value": 25024
     }
    },
    "f80164da346f4cfd8c1339d8b1da0a70": {
     "model_module": "@jupyter-widgets/controls",
     "model_name": "HTMLModel",
     "state": {
      "_dom_classes": [],
      "_model_module": "@jupyter-widgets/controls",
      "_model_module_version": "1.5.0",
      "_model_name": "HTMLModel",
      "_view_count": null,
      "_view_module": "@jupyter-widgets/controls",
      "_view_module_version": "1.5.0",
      "_view_name": "HTMLView",
      "description": "",
      "description_tooltip": null,
      "layout": "IPY_MODEL_403c3a867ecc4bf48e6575b35a8edf59",
      "placeholder": "​",
      "style": "IPY_MODEL_4e091e03ddce4fdfb4261121671a4274",
      "value": " 25024/25024 [00:09&lt;00:00, 2644.92it/s]"
     }
    }
   }
  }
 },
 "nbformat": 4,
 "nbformat_minor": 1
}
